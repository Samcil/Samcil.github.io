








<!DOCTYPE html>
<html lang="en">

<head>
  <meta charset="utf-8">
  <title>Jupyter Notebook Viewer</title>
  <meta name="viewport" content="width=device-width, initial-scale=1.0">
  <meta name="description" content="">
  <meta name="author" content="">
  
  <meta name="robots" content="noindex,nofollow">
  

  <!--NEW RELIC Start Perf Measurement-->
  
  <!--NREND-->

  <!-- Le styles -->
  <link href="/static/build/styles.css" rel="stylesheet">

  <!-- Le HTML5 shim, for IE6-8 support of HTML5 elements -->
  <!--[if lt IE 9]>
    <script src="http://html5shim.googlecode.com/svn/trunk/html5.js"></script>
  <![endif]-->

  <!-- Le fav and touch icons -->
  <link rel="shortcut icon" href="/static/ico/ipynb_icon_16x16.png">
  <link rel="apple-touch-icon-precomposed" sizes="144x144"
        href="/static/ico/apple-touch-icon-144-precomposed.png">
  <link rel="apple-touch-icon-precomposed" sizes="114x114"
        href="/static/ico/apple-touch-icon-114-precomposed.png">
  <link rel="apple-touch-icon-precomposed" sizes="72x72"
        href="/static/ico/apple-touch-icon-72-precomposed.png">
  <link rel="apple-touch-icon-precomposed"
        href="/static/ico/apple-touch-icon-57-precomposed.png">
  
  

  

  
  <meta name="twitter:card" content="summary">
  <meta name="twitter:title" content="Notebook on nbviewer">
  <meta name="twitter:description" content="Check out this Jupyter notebook!">

  
  <meta name="twitter:domain" content="nbviewer.jupyter.org">
  <meta name="twitter:image:src" content="http://ipython.org/ipython-doc/dev/_images/ipynb_icon_128x128.png">

  
    <link href="/static/build/notebook.css" rel="stylesheet">
  

  

  
    <script src="https://cdnjs.cloudflare.com/ajax/libs/mathjax/2.7.1/MathJax.js?config=TeX-AMS_HTML" type="text/javascript">
    </script>
    <script type="text/javascript">
      init_mathjax = function() {
        if (window.MathJax) {
          // MathJax loaded
          MathJax.Hub.Config({
            TeX: {
              equationNumbers: {
                autoNumber: "AMS",
                useLabelIds: true
              }
            },
            tex2jax: {
              inlineMath: [ ['$','$'], ["\\(","\\)"] ],
              displayMath: [ ['$$','$$'], ["\\[","\\]"] ],
              processEscapes: true,
              processEnvironments: true
            },
            displayAlign: 'center',
            "HTML-CSS": {
              styles: {'.MathJax_Display': {"margin": 0}},
              linebreaks: { automatic: true }
            }
          });
          MathJax.Hub.Queue(["Typeset", MathJax.Hub]);
        }
      }
      init_mathjax();
    </script>
  

  
    <script>
      (function() {
        function addWidgetsRenderer() {
          var mimeElement = document.querySelector('script[type="application/vnd.jupyter.widget-view+json"]');
          var scriptElement = document.createElement('script');
          var widgetRendererSrc = 'https://unpkg.com/@jupyter-widgets/html-manager@*/dist/embed-amd.js';
          var widgetState;

          try {
            widgetState = mimeElement && JSON.parse(mimeElement.innerHTML);

            if (widgetState && (widgetState.version_major < 2 || !widgetState.version_major)) {
              widgetRendererSrc = 'https://unpkg.com/jupyter-js-widgets@*/dist/embed.js';
            }
          } catch(e) {}

          scriptElement.src = widgetRendererSrc;
          document.body.appendChild(scriptElement);
        }

        document.addEventListener('DOMContentLoaded', addWidgetsRenderer);
      }());
    </script>
  

</head>

<body class="nbviewer">

  <!-- These are loaded at the top of the body so they are available to
       notebook cells when they are loaded below. -->
  <script src="/static/components/jquery/dist/jquery.min.js"></script>
  <script src="/static/components/requirejs/require.js"></script>
  <script src="/static/components/moment/min/moment.min.js"></script>
<!-- Navbar
================================================== -->
  <nav id="menubar" class="navbar navbar-default navbar-fixed-top" data-spy="affix">
    <div class="container">
      <div class="navbar-header">
        <button type="button" class="navbar-toggle collapsed" data-toggle="collapse" data-target=".navbar-collapse">
          <span class="sr-only">Toggle navigation</span>
          <i class="fa fa-bars"></i>
        </button>
        <a class="navbar-brand" href="/">
          <img src="/static/img/nav_logo.svg" width="159"/>
        </a>
      </div>

      <div class="collapse navbar-collapse">
        <ul class="nav navbar-nav navbar-right">
          <li>
            <a class="active" href="https://jupyter.org">JUPYTER</a>
          </li>
          <li>
    <a href="/faq" title="FAQ" >
      
        <span>FAQ</span>
      
    </a>
  </li>

          
  
    
  
    
      
        <li>
    <a href="script/url/taaviburns.ca/presentations/log_analysis_with_pandas/nb/5-Scatterplots.ipynb" title="View as Code" >
      <span class="fa fa-code fa-2x menu-icon"></span>
      <span class="menu-text">View as Code</span>
    </a>
  </li>
      
    
  

  

  

  

  <li>
    <a href="http://taaviburns.ca/presentations/log_analysis_with_pandas/nb/5-Scatterplots.ipynb" title="Download Notebook" download>
      <span class="fa fa-download fa-2x menu-icon"></span>
      <span class="menu-text">Download Notebook</span>
    </a>
  </li>

        </ul>
      </div><!-- /.navbar-collapse -->
      
      
    </div>
  </nav>

  <div class="container container-main">
    
  
  <div id="notebook">
    <div id="notebook-container">
      <div class="cell border-box-sizing code_cell rendered">
<div class="input">
<div class="prompt input_prompt">In&nbsp;[1]:</div>
<div class="inner_cell">
    <div class="input_area">
<div class=" highlight hl-ipython3"><pre><span></span><span class="kn">import</span> <span class="nn">pandas</span> <span class="k">as</span> <span class="nn">pd</span>
<span class="n">store</span> <span class="o">=</span> <span class="n">pd</span><span class="o">.</span><span class="n">HDFStore</span><span class="p">(</span><span class="s1">&#39;/Volumes/FreshBooks/data/store.h5&#39;</span><span class="p">)</span>
<span class="n">may07</span> <span class="o">=</span> <span class="n">store</span><span class="p">[</span><span class="s1">&#39;may07&#39;</span><span class="p">]</span>
<span class="n">may08</span> <span class="o">=</span> <span class="n">store</span><span class="p">[</span><span class="s1">&#39;may08&#39;</span><span class="p">]</span>
</pre></div>

    </div>
</div>
</div>

</div>
<div class="cell border-box-sizing text_cell rendered"><div class="prompt input_prompt">
</div><div class="inner_cell">
<div class="text_cell_render border-box-sizing rendered_html">
<h1 id="Is-there-a-correlation-between-response-time-and-response-size?">Is there a correlation between response time and response size?<a class="anchor-link" href="#Is-there-a-correlation-between-response-time-and-response-size?">&#182;</a></h1><p>We can see how queries that return more data take longer to run using the pylab <code>plot()</code> method:</p>

</div>
</div>
</div>
<div class="cell border-box-sizing code_cell rendered">
<div class="input">
<div class="prompt input_prompt">In&nbsp;[2]:</div>
<div class="inner_cell">
    <div class="input_area">
<div class=" highlight hl-ipython3"><pre><span></span><span class="n">xlabel</span><span class="p">(</span><span class="s1">&#39;Elapsed (s)&#39;</span><span class="p">)</span>
<span class="n">ylabel</span><span class="p">(</span><span class="s1">&#39;Number of rows returned&#39;</span><span class="p">)</span>
<span class="n">plot</span><span class="p">(</span><span class="n">may07</span><span class="p">[</span><span class="s1">&#39;elapsed&#39;</span><span class="p">],</span> <span class="n">may07</span><span class="p">[</span><span class="s1">&#39;rows&#39;</span><span class="p">],</span> <span class="s1">&#39;r.&#39;</span><span class="p">,</span> <span class="n">label</span><span class="o">=</span><span class="s1">&#39;May 7&#39;</span><span class="p">)</span>
</pre></div>

    </div>
</div>
</div>

<div class="output_wrapper">
<div class="output">


<div class="output_area">

    <div class="prompt output_prompt">Out[2]:</div>




<div class="output_text output_subarea output_execute_result">
<pre>[&lt;matplotlib.lines.Line2D at 0x112325410&gt;]</pre>
</div>

</div>

<div class="output_area">

    <div class="prompt"></div>




<div class="output_png output_subarea ">
<img src="data:image/png;base64,iVBORw0KGgoAAAANSUhEUgAAAZQAAAEMCAYAAADj8ECOAAAABHNCSVQICAgIfAhkiAAAAAlwSFlz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"
>
</div>

</div>

</div>
</div>

</div>
<div class="cell border-box-sizing text_cell rendered"><div class="prompt input_prompt">
</div><div class="inner_cell">
<div class="text_cell_render border-box-sizing rendered_html">
<p>But that's a little generic, as it's looking at <em>all</em> requests. We can do better! And we can compare one day to another!</p>
<p>Let's start by selecting only a subset of the data. We do deployments around 9am, so we'll just look at requests that come in after release:</p>

</div>
</div>
</div>
<div class="cell border-box-sizing code_cell rendered">
<div class="input">
<div class="prompt input_prompt">In&nbsp;[3]:</div>
<div class="inner_cell">
    <div class="input_area">
<div class=" highlight hl-ipython3"><pre><span></span><span class="kn">from</span> <span class="nn">datetime</span> <span class="kn">import</span> <span class="n">datetime</span>
<span class="kn">import</span> <span class="nn">pytz</span>
<span class="n">toronto</span> <span class="o">=</span> <span class="n">pytz</span><span class="o">.</span><span class="n">timezone</span><span class="p">(</span><span class="s1">&#39;America/Toronto&#39;</span><span class="p">)</span>
<span class="n">may07_0900</span> <span class="o">=</span> <span class="n">toronto</span><span class="o">.</span><span class="n">localize</span><span class="p">(</span><span class="n">datetime</span><span class="p">(</span><span class="mi">2012</span><span class="p">,</span> <span class="mi">5</span><span class="p">,</span> <span class="mi">7</span><span class="p">,</span> <span class="mi">9</span><span class="p">,</span> <span class="mi">0</span><span class="p">))</span><span class="o">.</span><span class="n">astimezone</span><span class="p">(</span><span class="n">pytz</span><span class="o">.</span><span class="n">utc</span><span class="p">)</span><span class="o">.</span><span class="n">replace</span><span class="p">(</span><span class="n">tzinfo</span><span class="o">=</span><span class="kc">None</span><span class="p">)</span>
<span class="n">may08_0900</span> <span class="o">=</span> <span class="n">toronto</span><span class="o">.</span><span class="n">localize</span><span class="p">(</span><span class="n">datetime</span><span class="p">(</span><span class="mi">2012</span><span class="p">,</span> <span class="mi">5</span><span class="p">,</span> <span class="mi">8</span><span class="p">,</span> <span class="mi">9</span><span class="p">,</span> <span class="mi">0</span><span class="p">))</span><span class="o">.</span><span class="n">astimezone</span><span class="p">(</span><span class="n">pytz</span><span class="o">.</span><span class="n">utc</span><span class="p">)</span><span class="o">.</span><span class="n">replace</span><span class="p">(</span><span class="n">tzinfo</span><span class="o">=</span><span class="kc">None</span><span class="p">)</span>
</pre></div>

    </div>
</div>
</div>

</div>
<div class="cell border-box-sizing text_cell rendered"><div class="prompt input_prompt">
</div><div class="inner_cell">
<div class="text_cell_render border-box-sizing rendered_html">
<p>I deployed some interesting changes on the 8th, with the goal of improving performance for invoice-related requests. Let's start by getting the comparison data from the previous day:</p>

</div>
</div>
</div>
<div class="cell border-box-sizing code_cell rendered">
<div class="input">
<div class="prompt input_prompt">In&nbsp;[4]:</div>
<div class="inner_cell">
    <div class="input_area">
<div class=" highlight hl-ipython3"><pre><span></span><span class="c1"># Select only the requests that came in after 9am local time</span>
<span class="n">may07_after_0900</span> <span class="o">=</span> <span class="n">may07</span><span class="p">[</span><span class="n">may07</span><span class="o">.</span><span class="n">index</span> <span class="o">&gt;=</span> <span class="n">may07_0900</span><span class="p">]</span>
<span class="c1"># Select only the requests for invoice things</span>
<span class="n">may07_invoice_after_0900</span> <span class="o">=</span> <span class="n">may07_after_0900</span><span class="p">[</span><span class="n">may07_after_0900</span><span class="p">[</span><span class="s1">&#39;silo&#39;</span><span class="p">]</span> <span class="o">==</span> <span class="s1">&#39;invoice_InvoiceResource&#39;</span><span class="p">]</span>
<span class="c1"># Note that Pandas stores the DatetimeIndex values as naïve datetimes in UTC!</span>
<span class="n">may07_invoice_after_0900</span>
</pre></div>

    </div>
</div>
</div>

<div class="output_wrapper">
<div class="output">


<div class="output_area">

    <div class="prompt output_prompt">Out[4]:</div>




<div class="output_text output_subarea output_execute_result">
<pre>&lt;class &#39;pandas.core.frame.DataFrame&#39;&gt;
DatetimeIndex: 284115 entries, 2012-05-07 13:00:00 to 2012-05-08 03:59:59
Data columns:
request_id    284115  non-null values
port          284115  non-null values
accountid     284115  non-null values
userid        284115  non-null values
contactid     284115  non-null values
level         284115  non-null values
silo          284115  non-null values
method        284115  non-null values
rows          284115  non-null values
queries       284115  non-null values
query_time    284115  non-null values
elapsed       284115  non-null values
user          284115  non-null values
sys           284115  non-null values
dtypes: float64(2), int64(10), object(2)</pre>
</div>

</div>

</div>
</div>

</div>
<div class="cell border-box-sizing text_cell rendered"><div class="prompt input_prompt">
</div><div class="inner_cell">
<div class="text_cell_render border-box-sizing rendered_html">
<p>Now we'll get the same range of data, but from after my code went live:</p>

</div>
</div>
</div>
<div class="cell border-box-sizing code_cell rendered">
<div class="input">
<div class="prompt input_prompt">In&nbsp;[5]:</div>
<div class="inner_cell">
    <div class="input_area">
<div class=" highlight hl-ipython3"><pre><span></span><span class="n">may08_after_0900</span> <span class="o">=</span> <span class="n">may08</span><span class="p">[</span><span class="n">may08</span><span class="o">.</span><span class="n">index</span> <span class="o">&gt;=</span> <span class="n">may08_0900</span><span class="p">]</span>
<span class="n">may08_invoice_after_0900</span> <span class="o">=</span> <span class="n">may08_after_0900</span><span class="p">[</span><span class="n">may08_after_0900</span><span class="p">[</span><span class="s1">&#39;silo&#39;</span><span class="p">]</span> <span class="o">==</span> <span class="s1">&#39;invoice_InvoiceResource&#39;</span><span class="p">]</span>
<span class="n">may08_invoice_after_0900</span>
</pre></div>

    </div>
</div>
</div>

<div class="output_wrapper">
<div class="output">


<div class="output_area">

    <div class="prompt output_prompt">Out[5]:</div>




<div class="output_text output_subarea output_execute_result">
<pre>&lt;class &#39;pandas.core.frame.DataFrame&#39;&gt;
DatetimeIndex: 263552 entries, 2012-05-08 13:00:00 to 2012-05-09 03:59:59
Data columns:
request_id    263552  non-null values
port          263552  non-null values
accountid     263552  non-null values
userid        263552  non-null values
contactid     263552  non-null values
level         263552  non-null values
silo          263552  non-null values
method        263552  non-null values
rows          263552  non-null values
queries       263552  non-null values
query_time    263552  non-null values
elapsed       263552  non-null values
user          263552  non-null values
sys           263552  non-null values
dtypes: float64(2), int64(10), object(2)</pre>
</div>

</div>

</div>
</div>

</div>
<div class="cell border-box-sizing code_cell rendered">
<div class="input">
<div class="prompt input_prompt">In&nbsp;[6]:</div>
<div class="inner_cell">
    <div class="input_area">
<div class=" highlight hl-ipython3"><pre><span></span><span class="n">title</span><span class="p">(</span><span class="s1">&#39;Response size vs request time for invoices, comparing two days&#39;</span><span class="p">)</span>
<span class="n">xlabel</span><span class="p">(</span><span class="s1">&#39;Elapsed (s)&#39;</span><span class="p">)</span>
<span class="n">xlim</span><span class="p">(</span><span class="mi">0</span><span class="p">,</span> <span class="mi">30</span><span class="p">)</span>  <span class="c1"># There are some uninteresting outliners </span>
<span class="n">ylabel</span><span class="p">(</span><span class="s1">&#39;Number of rows returned&#39;</span><span class="p">)</span>
<span class="n">plot</span><span class="p">(</span><span class="n">may07_invoice_after_0900</span><span class="p">[</span><span class="s1">&#39;elapsed&#39;</span><span class="p">],</span> <span class="n">may07_invoice_after_0900</span><span class="p">[</span><span class="s1">&#39;rows&#39;</span><span class="p">],</span> <span class="s1">&#39;r.&#39;</span><span class="p">,</span> <span class="n">label</span><span class="o">=</span><span class="s1">&#39;May 7&#39;</span><span class="p">)</span>
<span class="n">plot</span><span class="p">(</span><span class="n">may08_invoice_after_0900</span><span class="p">[</span><span class="s1">&#39;elapsed&#39;</span><span class="p">],</span> <span class="n">may08_invoice_after_0900</span><span class="p">[</span><span class="s1">&#39;rows&#39;</span><span class="p">],</span> <span class="s1">&#39;b.&#39;</span><span class="p">,</span> <span class="n">label</span><span class="o">=</span><span class="s1">&#39;May 8&#39;</span><span class="p">)</span>
<span class="n">legend</span><span class="p">()</span>
</pre></div>

    </div>
</div>
</div>

<div class="output_wrapper">
<div class="output">


<div class="output_area">

    <div class="prompt output_prompt">Out[6]:</div>




<div class="output_text output_subarea output_execute_result">
<pre>&lt;matplotlib.legend.Legend at 0x1120b0e50&gt;</pre>
</div>

</div>

<div class="output_area">

    <div class="prompt"></div>




<div class="output_png output_subarea ">
<img src="data:image/png;base64,iVBORw0KGgoAAAANSUhEUgAAAZ8AAAEXCAYAAAByAUkhAAAABHNCSVQICAgIfAhkiAAAAAlwSFlz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"
>
</div>

</div>

</div>
</div>

</div>
<div class="cell border-box-sizing text_cell rendered"><div class="prompt input_prompt">
</div><div class="inner_cell">
<div class="text_cell_render border-box-sizing rendered_html">
<p>For comparison, I didn't change much about Estimates:</p>

</div>
</div>
</div>
<div class="cell border-box-sizing code_cell rendered">
<div class="input">
<div class="prompt input_prompt">In&nbsp;[7]:</div>
<div class="inner_cell">
    <div class="input_area">
<div class=" highlight hl-ipython3"><pre><span></span><span class="n">may07_estimate_after_0900</span> <span class="o">=</span> <span class="n">may07_after_0900</span><span class="p">[</span><span class="n">may07_after_0900</span><span class="p">[</span><span class="s1">&#39;silo&#39;</span><span class="p">]</span> <span class="o">==</span> <span class="s1">&#39;estimate_EstimateResource&#39;</span><span class="p">]</span>
<span class="n">may08_estimate_after_0900</span> <span class="o">=</span> <span class="n">may08_after_0900</span><span class="p">[</span><span class="n">may08_after_0900</span><span class="p">[</span><span class="s1">&#39;silo&#39;</span><span class="p">]</span> <span class="o">==</span> <span class="s1">&#39;estimate_EstimateResource&#39;</span><span class="p">]</span>
<span class="n">title</span><span class="p">(</span><span class="s1">&#39;Response size vs request time for estimates, comparing two days&#39;</span><span class="p">)</span>
<span class="n">xlabel</span><span class="p">(</span><span class="s1">&#39;Elapsed (s)&#39;</span><span class="p">)</span>
<span class="n">xlim</span><span class="p">(</span><span class="mi">0</span><span class="p">,</span> <span class="mi">30</span><span class="p">)</span>
<span class="n">ylabel</span><span class="p">(</span><span class="s1">&#39;Number of rows returned&#39;</span><span class="p">)</span>
<span class="n">plot</span><span class="p">(</span><span class="n">may07_estimate_after_0900</span><span class="p">[</span><span class="s1">&#39;elapsed&#39;</span><span class="p">],</span> <span class="n">may07_estimate_after_0900</span><span class="p">[</span><span class="s1">&#39;rows&#39;</span><span class="p">],</span> <span class="s1">&#39;r.&#39;</span><span class="p">,</span> <span class="n">label</span><span class="o">=</span><span class="s1">&#39;May 7&#39;</span><span class="p">)</span>
<span class="n">plot</span><span class="p">(</span><span class="n">may08_estimate_after_0900</span><span class="p">[</span><span class="s1">&#39;elapsed&#39;</span><span class="p">],</span> <span class="n">may08_estimate_after_0900</span><span class="p">[</span><span class="s1">&#39;rows&#39;</span><span class="p">],</span> <span class="s1">&#39;b.&#39;</span><span class="p">,</span> <span class="n">label</span><span class="o">=</span><span class="s1">&#39;May 8&#39;</span><span class="p">)</span>
<span class="n">legend</span><span class="p">()</span>
</pre></div>

    </div>
</div>
</div>

<div class="output_wrapper">
<div class="output">


<div class="output_area">

    <div class="prompt output_prompt">Out[7]:</div>




<div class="output_text output_subarea output_execute_result">
<pre>&lt;matplotlib.legend.Legend at 0x139680e50&gt;</pre>
</div>

</div>

<div class="output_area">

    <div class="prompt"></div>




<div class="output_png output_subarea ">
<img src="data:image/png;base64,iVBORw0KGgoAAAANSUhEUgAAAaUAAAEXCAYAAAAN0FvQAAAABHNCSVQICAgIfAhkiAAAAAlwSFlz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==
"
>
</div>

</div>

</div>
</div>

</div>
<div class="cell border-box-sizing text_cell rendered"><div class="prompt input_prompt">
</div><div class="inner_cell">
<div class="text_cell_render border-box-sizing rendered_html">
<p>But I did change estimates week later! Let's see how they fare:</p>

</div>
</div>
</div>
<div class="cell border-box-sizing code_cell rendered">
<div class="input">
<div class="prompt input_prompt">In&nbsp;[8]:</div>
<div class="inner_cell">
    <div class="input_area">
<div class=" highlight hl-ipython3"><pre><span></span><span class="n">may14</span> <span class="o">=</span> <span class="n">store</span><span class="p">[</span><span class="s1">&#39;may14&#39;</span><span class="p">]</span>
<span class="n">may14_0900</span> <span class="o">=</span> <span class="n">toronto</span><span class="o">.</span><span class="n">localize</span><span class="p">(</span><span class="n">datetime</span><span class="p">(</span><span class="mi">2012</span><span class="p">,</span> <span class="mi">5</span><span class="p">,</span> <span class="mi">14</span><span class="p">,</span> <span class="mi">9</span><span class="p">,</span> <span class="mi">0</span><span class="p">))</span><span class="o">.</span><span class="n">astimezone</span><span class="p">(</span><span class="n">pytz</span><span class="o">.</span><span class="n">utc</span><span class="p">)</span><span class="o">.</span><span class="n">replace</span><span class="p">(</span><span class="n">tzinfo</span><span class="o">=</span><span class="kc">None</span><span class="p">)</span>
<span class="n">may14_after_0900</span> <span class="o">=</span> <span class="n">may14</span><span class="p">[</span><span class="n">may14</span><span class="o">.</span><span class="n">index</span> <span class="o">&gt;=</span> <span class="n">may14_0900</span><span class="p">]</span>
<span class="n">may14_estimate_after_0900</span> <span class="o">=</span> <span class="n">may14_after_0900</span><span class="p">[</span><span class="n">may14_after_0900</span><span class="p">[</span><span class="s1">&#39;silo&#39;</span><span class="p">]</span> <span class="o">==</span> <span class="s1">&#39;estimate_EstimateResource&#39;</span><span class="p">]</span>

<span class="n">may15</span> <span class="o">=</span> <span class="n">store</span><span class="p">[</span><span class="s1">&#39;may15&#39;</span><span class="p">]</span>
<span class="n">may15_0900</span> <span class="o">=</span> <span class="n">toronto</span><span class="o">.</span><span class="n">localize</span><span class="p">(</span><span class="n">datetime</span><span class="p">(</span><span class="mi">2012</span><span class="p">,</span> <span class="mi">5</span><span class="p">,</span> <span class="mi">15</span><span class="p">,</span> <span class="mi">9</span><span class="p">,</span> <span class="mi">0</span><span class="p">))</span><span class="o">.</span><span class="n">astimezone</span><span class="p">(</span><span class="n">pytz</span><span class="o">.</span><span class="n">utc</span><span class="p">)</span><span class="o">.</span><span class="n">replace</span><span class="p">(</span><span class="n">tzinfo</span><span class="o">=</span><span class="kc">None</span><span class="p">)</span>
<span class="n">may15_after_0900</span> <span class="o">=</span> <span class="n">may15</span><span class="p">[</span><span class="n">may15</span><span class="o">.</span><span class="n">index</span> <span class="o">&gt;=</span> <span class="n">may15_0900</span><span class="p">]</span>
<span class="n">may15_estimate_after_0900</span> <span class="o">=</span> <span class="n">may15_after_0900</span><span class="p">[</span><span class="n">may15_after_0900</span><span class="p">[</span><span class="s1">&#39;silo&#39;</span><span class="p">]</span> <span class="o">==</span> <span class="s1">&#39;estimate_EstimateResource&#39;</span><span class="p">]</span>

<span class="n">title</span><span class="p">(</span><span class="s1">&#39;Response size vs request time for estimates, comparing two days&#39;</span><span class="p">)</span>
<span class="n">xlabel</span><span class="p">(</span><span class="s1">&#39;Elapsed (s)&#39;</span><span class="p">)</span>
<span class="n">xlim</span><span class="p">(</span><span class="mi">0</span><span class="p">,</span> <span class="mi">30</span><span class="p">)</span>
<span class="n">ylabel</span><span class="p">(</span><span class="s1">&#39;Number of rows returned&#39;</span><span class="p">)</span>
<span class="n">plot</span><span class="p">(</span><span class="n">may14_estimate_after_0900</span><span class="p">[</span><span class="s1">&#39;elapsed&#39;</span><span class="p">],</span> <span class="n">may14_estimate_after_0900</span><span class="p">[</span><span class="s1">&#39;rows&#39;</span><span class="p">],</span> <span class="s1">&#39;r.&#39;</span><span class="p">,</span> <span class="n">label</span><span class="o">=</span><span class="s1">&#39;May 14&#39;</span><span class="p">)</span>
<span class="n">plot</span><span class="p">(</span><span class="n">may15_estimate_after_0900</span><span class="p">[</span><span class="s1">&#39;elapsed&#39;</span><span class="p">],</span> <span class="n">may15_estimate_after_0900</span><span class="p">[</span><span class="s1">&#39;rows&#39;</span><span class="p">],</span> <span class="s1">&#39;b.&#39;</span><span class="p">,</span> <span class="n">label</span><span class="o">=</span><span class="s1">&#39;May 15&#39;</span><span class="p">)</span>
<span class="n">legend</span><span class="p">()</span>
</pre></div>

    </div>
</div>
</div>

<div class="output_wrapper">
<div class="output">


<div class="output_area">

    <div class="prompt output_prompt">Out[8]:</div>




<div class="output_text output_subarea output_execute_result">
<pre>&lt;matplotlib.legend.Legend at 0x1396cd750&gt;</pre>
</div>

</div>

<div class="output_area">

    <div class="prompt"></div>




<div class="output_png output_subarea ">
<img src="data:image/png;base64,iVBORw0KGgoAAAANSUhEUgAAAaUAAAEXCAYAAAAN0FvQAAAABHNCSVQICAgIfAhkiAAAAAlwSFlz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=
"
>
</div>

</div>

</div>
</div>

</div>
<div class="cell border-box-sizing text_cell rendered"><div class="prompt input_prompt">
</div><div class="inner_cell">
<div class="text_cell_render border-box-sizing rendered_html">
<p>Bingo!</p>

</div>
</div>
</div>
 


    </div>
  </div>

  </div>


  
    <footer class="footer hidden-print">
      <div class="container">
        <div class="col-md-4">
          <p>
            This website does not host notebooks, it only renders notebooks
            available on other websites.
          </p>
        </div>

        <div class="col-md-4">
          <p>
            Delivered by <a href="https://www.fastly.com/">Fastly</a>,
            Rendered by <a href="https://ovhcloud.com">OVHcloud</a>
          </p>
          <p>
            nbviewer GitHub <a href="https://github.com/jupyter/nbviewer">repository</a>.
          </p>
        </div>

        <div class="col-md-4">
          
  
            
              <p>
                nbviewer version:
                <a href="https://github.com/jupyter/nbviewer/commit/90c61ccda0e4ae08ce46511c45505b49663fb019">
                  90c61cc
                </a>
              </p>
            
          
  
  <p>
    nbconvert version: <a href="https://github.com/jupyter/nbconvert/releases/tag/5.6.1">
      5.6.1
    </a>
  </p>
  

          
  
  
  <p>
    Rendered
    <span class='date' data-date='Wed, 29 Dec 2021 18:02:18 UTC' title='Wed, 29 Dec 2021 18:02:18 UTC'>(Wed, 29 Dec 2021 18:02:18 UTC)</span>
  </p>
  

        </div>
      </div>
    </footer>
  

  <script src="/static/components/bootstrap/js/bootstrap.min.js"></script>
  <script src="/static/components/headroom.js/dist/headroom.min.js"></script>
  <script src="/static/components/headroom.js/dist/jQuery.headroom.min.js"></script>

  
  
  <script>
    $(function(){ $("#menubar").headroom({
      tolerance: 5,
      offset: 205,
      classes: {
        initial: "animated",
        pinned: "slideInDown",
        unpinned: "slideOutUp"
      }
    })});
  </script>


  
  <script>
    (function(i,s,o,g,r,a,m){i['GoogleAnalyticsObject']=r;i[r]=i[r]||function(){
      (i[r].q=i[r].q||[]).push(arguments)},i[r].l=1*new Date();a=s.createElement(o),
      m=s.getElementsByTagName(o)[0];a.async=1;a.src=g;m.parentNode.insertBefore(a,m)
    })(window,document,'script','https://www.google-analytics.com/analytics.js','ga');
    ga('create', 'UA-52617120-5', 'auto',
       {'storage': 'none'});
    ga('set', 'anonymizeIp', true);
    ga('send', 'pageview');
  </script>
  
  <script>
    require({
        paths: {
          moment: "/static/components/moment/min/moment.min.js"
        }
      }, ["moment"], function(moment){
      var date = $("footer .date"),
        m = moment(new Date(date.data('date'))),
        update = function(){ date.text(m.fromNow()); };
      setInterval(update, 61*1000);
      update();
      var w = $(window).scroll(function(event){
        $("body").toggleClass("scrolled", w.scrollTop() > 0);
      });
    });
  </script>

  <!--NEW RELIC Stop Perf Measurement-->
  
  <!--NEW RELIC End-->
</body>
</html>